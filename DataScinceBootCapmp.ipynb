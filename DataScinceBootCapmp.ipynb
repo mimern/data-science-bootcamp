{
  "nbformat": 4,
  "nbformat_minor": 0,
  "metadata": {
    "colab": {
      "name": "DataScinceBootCapmp.ipynb",
      "provenance": [],
      "authorship_tag": "ABX9TyPZZHIgb3I8S9mLFI14y8bM",
      "include_colab_link": true
    },
    "kernelspec": {
      "name": "python3",
      "display_name": "Python 3"
    },
    "language_info": {
      "name": "python"
    }
  },
  "cells": [
    {
      "cell_type": "markdown",
      "metadata": {
        "id": "view-in-github",
        "colab_type": "text"
      },
      "source": [
        "<a href=\"https://colab.research.google.com/github/mimern/data-science-bootcamp/blob/main/DataScinceBootCapmp.ipynb\" target=\"_parent\"><img src=\"https://colab.research.google.com/assets/colab-badge.svg\" alt=\"Open In Colab\"/></a>"
      ]
    },
    {
      "cell_type": "markdown",
      "metadata": {
        "id": "ucnqwPzuGPzZ"
      },
      "source": [
        "1. Numpy"
      ]
    },
    {
      "cell_type": "code",
      "metadata": {
        "id": "7i8KNpRFF74_"
      },
      "source": [
        "import numpy as np"
      ],
      "execution_count": 1,
      "outputs": []
    },
    {
      "cell_type": "code",
      "metadata": {
        "id": "EdsIFwAOJEzN"
      },
      "source": [
        "dir(np)"
      ],
      "execution_count": null,
      "outputs": []
    },
    {
      "cell_type": "code",
      "metadata": {
        "colab": {
          "base_uri": "https://localhost:8080/"
        },
        "id": "DF0L1W9pJKAr",
        "outputId": "3db320e0-7908-4b88-e8ec-d46b91bcc21d"
      },
      "source": [
        "x = np.array([[2,3,3], [-3,1,2]])\n",
        "print(x.ndim)\n",
        "print(x.shape)\n",
        "x"
      ],
      "execution_count": 11,
      "outputs": [
        {
          "output_type": "stream",
          "name": "stdout",
          "text": [
            "2\n",
            "(2, 3)\n"
          ]
        },
        {
          "output_type": "execute_result",
          "data": {
            "text/plain": [
              "array([[ 2,  3,  3],\n",
              "       [-3,  1,  2]])"
            ]
          },
          "metadata": {},
          "execution_count": 11
        }
      ]
    },
    {
      "cell_type": "markdown",
      "metadata": {
        "id": "kSbpJzJuK87P"
      },
      "source": [
        "3D"
      ]
    },
    {
      "cell_type": "code",
      "metadata": {
        "id": "4UT8Y0dPK62O"
      },
      "source": [
        "x = np.array(\n",
        "    [[[4,3,1],\n",
        "      [3,1,2]],\n",
        "     \n",
        "     [[3,4,5],\n",
        "      [5,6,7]],\n",
        "     [[7,8,2],\n",
        "      [4,5,6]]]\n",
        ")"
      ],
      "execution_count": 12,
      "outputs": []
    },
    {
      "cell_type": "code",
      "metadata": {
        "colab": {
          "base_uri": "https://localhost:8080/"
        },
        "id": "CGA-Z8noMBFr",
        "outputId": "5876747d-d35d-45d3-a4e1-5ae07a33788c"
      },
      "source": [
        "######################################################"
      ],
      "execution_count": 16,
      "outputs": [
        {
          "output_type": "execute_result",
          "data": {
            "text/plain": [
              "3"
            ]
          },
          "metadata": {},
          "execution_count": 16
        }
      ]
    },
    {
      "cell_type": "code",
      "metadata": {
        "colab": {
          "base_uri": "https://localhost:8080/"
        },
        "id": "rhjwLRs-MwMZ",
        "outputId": "28fd76d4-85c0-461a-ce03-447010f5cd94"
      },
      "source": [
        "A = np.array([1,2,3], dtype='float')\n",
        "\n",
        "A.dtype\n"
      ],
      "execution_count": 18,
      "outputs": [
        {
          "output_type": "execute_result",
          "data": {
            "text/plain": [
              "dtype('float64')"
            ]
          },
          "metadata": {},
          "execution_count": 18
        }
      ]
    },
    {
      "cell_type": "code",
      "metadata": {
        "id": "Ihh3Wf89NamQ"
      },
      "source": [
        "A = np.array([1,2,3], dtype='float')\n",
        "\n",
        "A.dtype"
      ],
      "execution_count": null,
      "outputs": []
    },
    {
      "cell_type": "code",
      "metadata": {
        "colab": {
          "base_uri": "https://localhost:8080/"
        },
        "id": "csMkBzOUQCfo",
        "outputId": "718851fa-1116-4c0b-efbd-a873275cbe07"
      },
      "source": [
        "np.full(shape=(4,4), fill_value=3.14, dtype='float')"
      ],
      "execution_count": 19,
      "outputs": [
        {
          "output_type": "execute_result",
          "data": {
            "text/plain": [
              "array([[3.14, 3.14, 3.14, 3.14],\n",
              "       [3.14, 3.14, 3.14, 3.14],\n",
              "       [3.14, 3.14, 3.14, 3.14],\n",
              "       [3.14, 3.14, 3.14, 3.14]])"
            ]
          },
          "metadata": {},
          "execution_count": 19
        }
      ]
    },
    {
      "cell_type": "code",
      "metadata": {
        "colab": {
          "base_uri": "https://localhost:8080/"
        },
        "id": "N-4SSlqeQPsO",
        "outputId": "9a7bc89d-8438-49e0-95c6-95f2a82b8914"
      },
      "source": [
        "np.arange(100,0,-10)"
      ],
      "execution_count": 20,
      "outputs": [
        {
          "output_type": "execute_result",
          "data": {
            "text/plain": [
              "array([100,  90,  80,  70,  60,  50,  40,  30,  20,  10])"
            ]
          },
          "metadata": {},
          "execution_count": 20
        }
      ]
    },
    {
      "cell_type": "code",
      "metadata": {
        "colab": {
          "base_uri": "https://localhost:8080/"
        },
        "id": "zxI_TovAQXjA",
        "outputId": "f4b380e3-bafc-41fb-c4ce-0a1537e7e4f5"
      },
      "source": [
        "list(range(100,0,-10))"
      ],
      "execution_count": 22,
      "outputs": [
        {
          "output_type": "execute_result",
          "data": {
            "text/plain": [
              "[100, 90, 80, 70, 60, 50, 40, 30, 20, 10]"
            ]
          },
          "metadata": {},
          "execution_count": 22
        }
      ]
    },
    {
      "cell_type": "code",
      "metadata": {
        "colab": {
          "base_uri": "https://localhost:8080/"
        },
        "id": "eyIw01WQQcrV",
        "outputId": "5dba44cf-d849-4b21-f0d8-fa8dcd632c1e"
      },
      "source": [
        "np.linspace(1,10,10)"
      ],
      "execution_count": 24,
      "outputs": [
        {
          "output_type": "execute_result",
          "data": {
            "text/plain": [
              "array([ 1.,  2.,  3.,  4.,  5.,  6.,  7.,  8.,  9., 10.])"
            ]
          },
          "metadata": {},
          "execution_count": 24
        }
      ]
    },
    {
      "cell_type": "code",
      "metadata": {
        "colab": {
          "base_uri": "https://localhost:8080/"
        },
        "id": "fXJkSkNpQ5M_",
        "outputId": "6914e882-6e26-46b2-d9d5-8fd5a2160be0"
      },
      "source": [
        "A = np.arange(16)\n",
        "A.reshape((4,4))"
      ],
      "execution_count": 28,
      "outputs": [
        {
          "output_type": "execute_result",
          "data": {
            "text/plain": [
              "array([[ 0,  1,  2,  3],\n",
              "       [ 4,  5,  6,  7],\n",
              "       [ 8,  9, 10, 11],\n",
              "       [12, 13, 14, 15]])"
            ]
          },
          "metadata": {},
          "execution_count": 28
        }
      ]
    },
    {
      "cell_type": "code",
      "metadata": {
        "id": "yTTQ6dnpRXaL"
      },
      "source": [
        "#### operacje"
      ],
      "execution_count": null,
      "outputs": []
    },
    {
      "cell_type": "code",
      "metadata": {
        "id": "4X7ZRb1BRZ8L"
      },
      "source": [
        "A = np.array([[3,1],[4,2]])\n",
        "B = np.array([[3,-1],[3,2]])"
      ],
      "execution_count": 38,
      "outputs": []
    },
    {
      "cell_type": "code",
      "metadata": {
        "colab": {
          "base_uri": "https://localhost:8080/"
        },
        "id": "1dx_MmXbRqCi",
        "outputId": "cf08e4b3-a1c5-454a-ce4f-0c71ae1b0b36"
      },
      "source": [
        "# +, -, *, /"
      ],
      "execution_count": 35,
      "outputs": [
        {
          "output_type": "execute_result",
          "data": {
            "text/plain": [
              "array([ 1.        , -1.        ,  1.33333333,  1.        ])"
            ]
          },
          "metadata": {},
          "execution_count": 35
        }
      ]
    },
    {
      "cell_type": "code",
      "metadata": {
        "colab": {
          "base_uri": "https://localhost:8080/"
        },
        "id": "6jtiweVQRr4K",
        "outputId": "157a3fbf-b0fa-4779-d21e-7b3f2bdffb97"
      },
      "source": [
        "A*B"
      ],
      "execution_count": 40,
      "outputs": [
        {
          "output_type": "execute_result",
          "data": {
            "text/plain": [
              "array([[ 9, -1],\n",
              "       [12,  4]])"
            ]
          },
          "metadata": {},
          "execution_count": 40
        }
      ]
    },
    {
      "cell_type": "code",
      "metadata": {
        "colab": {
          "base_uri": "https://localhost:8080/"
        },
        "id": "bthLgLRYR9a6",
        "outputId": "0062a280-fd7e-4b36-ccec-ecaa23867c48"
      },
      "source": [
        " ### np.dot - mnozenie macierzowe lub @ lub A.dot(B)\n",
        " np.dot(A,B)"
      ],
      "execution_count": 41,
      "outputs": [
        {
          "output_type": "execute_result",
          "data": {
            "text/plain": [
              "array([[12, -1],\n",
              "       [18,  0]])"
            ]
          },
          "metadata": {},
          "execution_count": 41
        }
      ]
    },
    {
      "cell_type": "code",
      "metadata": {
        "colab": {
          "base_uri": "https://localhost:8080/"
        },
        "id": "inxhUAsfU-hp",
        "outputId": "1c03a308-1d42-46d1-bbe8-2fd3746d3c82"
      },
      "source": [
        "A.dot(B)"
      ],
      "execution_count": 44,
      "outputs": [
        {
          "output_type": "execute_result",
          "data": {
            "text/plain": [
              "array([[12, -1],\n",
              "       [18,  0]])"
            ]
          },
          "metadata": {},
          "execution_count": 44
        }
      ]
    },
    {
      "cell_type": "code",
      "metadata": {
        "colab": {
          "base_uri": "https://localhost:8080/"
        },
        "id": "YGfidZ-wVK5C",
        "outputId": "3a1e21db-ce43-428e-dc9f-edac18e0f34b"
      },
      "source": [
        "A@B"
      ],
      "execution_count": 45,
      "outputs": [
        {
          "output_type": "execute_result",
          "data": {
            "text/plain": [
              "array([[12, -1],\n",
              "       [18,  0]])"
            ]
          },
          "metadata": {},
          "execution_count": 45
        }
      ]
    },
    {
      "cell_type": "code",
      "metadata": {
        "id": "4fETx6znVRxx"
      },
      "source": [
        ""
      ],
      "execution_count": 47,
      "outputs": []
    },
    {
      "cell_type": "code",
      "metadata": {
        "colab": {
          "base_uri": "https://localhost:8080/"
        },
        "id": "VfVeOOlMVe5k",
        "outputId": "f4fa52ac-229d-4d16-e98e-e9294b8a20a7"
      },
      "source": [
        "np.random.seed(0)  # siejemy ziarno losowe xd\n",
        "X = np.random.randn(10,4) ### z rozkladu normalnego\n",
        "X"
      ],
      "execution_count": 56,
      "outputs": [
        {
          "output_type": "execute_result",
          "data": {
            "text/plain": [
              "array([[ 1.76405235,  0.40015721,  0.97873798,  2.2408932 ],\n",
              "       [ 1.86755799, -0.97727788,  0.95008842, -0.15135721],\n",
              "       [-0.10321885,  0.4105985 ,  0.14404357,  1.45427351],\n",
              "       [ 0.76103773,  0.12167502,  0.44386323,  0.33367433],\n",
              "       [ 1.49407907, -0.20515826,  0.3130677 , -0.85409574],\n",
              "       [-2.55298982,  0.6536186 ,  0.8644362 , -0.74216502],\n",
              "       [ 2.26975462, -1.45436567,  0.04575852, -0.18718385],\n",
              "       [ 1.53277921,  1.46935877,  0.15494743,  0.37816252],\n",
              "       [-0.88778575, -1.98079647, -0.34791215,  0.15634897],\n",
              "       [ 1.23029068,  1.20237985, -0.38732682, -0.30230275]])"
            ]
          },
          "metadata": {},
          "execution_count": 56
        }
      ]
    },
    {
      "cell_type": "code",
      "metadata": {
        "colab": {
          "base_uri": "https://localhost:8080/"
        },
        "id": "eS633DfUV45i",
        "outputId": "7d9ec97c-ab20-4858-b581-a2c622e58c74"
      },
      "source": [
        "X = np.random.rand(10,4) ### z rozkladu jednostajnego\n",
        "X"
      ],
      "execution_count": 59,
      "outputs": [
        {
          "output_type": "execute_result",
          "data": {
            "text/plain": [
              "array([[0.31542835, 0.36371077, 0.57019677, 0.43860151],\n",
              "       [0.98837384, 0.10204481, 0.20887676, 0.16130952],\n",
              "       [0.65310833, 0.2532916 , 0.46631077, 0.24442559],\n",
              "       [0.15896958, 0.11037514, 0.65632959, 0.13818295],\n",
              "       [0.19658236, 0.36872517, 0.82099323, 0.09710128],\n",
              "       [0.83794491, 0.09609841, 0.97645947, 0.4686512 ],\n",
              "       [0.97676109, 0.60484552, 0.73926358, 0.03918779],\n",
              "       [0.28280696, 0.12019656, 0.2961402 , 0.11872772],\n",
              "       [0.31798318, 0.41426299, 0.0641475 , 0.69247212],\n",
              "       [0.56660145, 0.26538949, 0.52324805, 0.09394051]])"
            ]
          },
          "metadata": {},
          "execution_count": 59
        }
      ]
    },
    {
      "cell_type": "code",
      "metadata": {
        "colab": {
          "base_uri": "https://localhost:8080/"
        },
        "id": "fAxwKTbHW7TY",
        "outputId": "7bb1cffc-80b8-4e8b-fa19-89f1db983e97"
      },
      "source": [
        "np.random.randint(low=10,high=101, size=10)"
      ],
      "execution_count": 61,
      "outputs": [
        {
          "output_type": "execute_result",
          "data": {
            "text/plain": [
              "array([75, 46, 20, 96, 53, 21, 12, 61, 90, 42])"
            ]
          },
          "metadata": {},
          "execution_count": 61
        }
      ]
    },
    {
      "cell_type": "code",
      "metadata": {
        "colab": {
          "base_uri": "https://localhost:8080/"
        },
        "id": "0KZLxSJdXJOL",
        "outputId": "98feb3c8-90f9-4976-f94a-99dad25427f0"
      },
      "source": [
        "B = np.arange(0,1,0.05)\n",
        "\n",
        "np.random.choice(B)"
      ],
      "execution_count": 63,
      "outputs": [
        {
          "output_type": "execute_result",
          "data": {
            "text/plain": [
              "0.30000000000000004"
            ]
          },
          "metadata": {},
          "execution_count": 63
        }
      ]
    },
    {
      "cell_type": "code",
      "metadata": {
        "id": "wGuTVP0IXYsf"
      },
      "source": [
        "###############################################################################################################33"
      ],
      "execution_count": null,
      "outputs": []
    },
    {
      "cell_type": "code",
      "metadata": {
        "colab": {
          "base_uri": "https://localhost:8080/"
        },
        "id": "jstN8xkgYbw_",
        "outputId": "29da6593-42c2-442b-dd9d-bfec2faf4f20"
      },
      "source": [
        "np.all([2,3,0])"
      ],
      "execution_count": 65,
      "outputs": [
        {
          "output_type": "execute_result",
          "data": {
            "text/plain": [
              "False"
            ]
          },
          "metadata": {},
          "execution_count": 65
        }
      ]
    },
    {
      "cell_type": "code",
      "metadata": {
        "colab": {
          "base_uri": "https://localhost:8080/"
        },
        "id": "tY3bt-6zYh5x",
        "outputId": "e5af3bc1-4424-4af6-d590-b752a3bb4ac1"
      },
      "source": [
        "np.any([0,2,0])"
      ],
      "execution_count": 68,
      "outputs": [
        {
          "output_type": "execute_result",
          "data": {
            "text/plain": [
              "True"
            ]
          },
          "metadata": {},
          "execution_count": 68
        }
      ]
    },
    {
      "cell_type": "code",
      "metadata": {
        "id": "2I6tLhdnYwr6"
      },
      "source": [
        "a =0\n",
        "b =1"
      ],
      "execution_count": 74,
      "outputs": []
    },
    {
      "cell_type": "code",
      "metadata": {
        "colab": {
          "base_uri": "https://localhost:8080/"
        },
        "id": "b9GAGrr3Ymd7",
        "outputId": "e6d95312-359d-4fac-8c9c-40bc6debfc7d"
      },
      "source": [
        "a = bool(a)\n",
        "b = bool(b)\n",
        "\n",
        "print(a)\n",
        "print(b)"
      ],
      "execution_count": 75,
      "outputs": [
        {
          "output_type": "stream",
          "name": "stdout",
          "text": [
            "False\n",
            "True\n"
          ]
        }
      ]
    },
    {
      "cell_type": "code",
      "metadata": {
        "colab": {
          "base_uri": "https://localhost:8080/"
        },
        "id": "VTxwhoXAZSv2",
        "outputId": "182827ae-26d7-4c8b-8a04-7be63d00c5b5"
      },
      "source": [
        "R = np.random.rand(5)\n",
        "R"
      ],
      "execution_count": 81,
      "outputs": [
        {
          "output_type": "execute_result",
          "data": {
            "text/plain": [
              "array([0.67781654, 0.27000797, 0.73519402, 0.96218855, 0.24875314])"
            ]
          },
          "metadata": {},
          "execution_count": 81
        }
      ]
    },
    {
      "cell_type": "code",
      "metadata": {
        "colab": {
          "base_uri": "https://localhost:8080/"
        },
        "id": "rQEThWPQZpu4",
        "outputId": "8d5dfb51-9d82-4b58-d449-a1439beb5189"
      },
      "source": [
        "np.argsort(R) ###sortuje indexy"
      ],
      "execution_count": 82,
      "outputs": [
        {
          "output_type": "execute_result",
          "data": {
            "text/plain": [
              "array([4, 1, 0, 2, 3])"
            ]
          },
          "metadata": {},
          "execution_count": 82
        }
      ]
    },
    {
      "cell_type": "code",
      "metadata": {
        "colab": {
          "base_uri": "https://localhost:8080/"
        },
        "id": "pdikVMGgaBO1",
        "outputId": "2b8905e8-eaf5-4d23-a667-4ff31292ced0"
      },
      "source": [
        "### slicey\n",
        "R[[0,2]]\n",
        "R[np.argsort(R)[0:2]]"
      ],
      "execution_count": 86,
      "outputs": [
        {
          "output_type": "execute_result",
          "data": {
            "text/plain": [
              "array([0.24875314, 0.27000797])"
            ]
          },
          "metadata": {},
          "execution_count": 86
        }
      ]
    },
    {
      "cell_type": "code",
      "metadata": {
        "colab": {
          "base_uri": "https://localhost:8080/"
        },
        "id": "KZUy_aNCaryS",
        "outputId": "fa2864eb-d626-4b29-bc9b-216fe830c566"
      },
      "source": [
        "### slce wielowymiary\n",
        "\n",
        "A = np.random.randint(10,20, size=(4,5))\n",
        "A"
      ],
      "execution_count": 95,
      "outputs": [
        {
          "output_type": "execute_result",
          "data": {
            "text/plain": [
              "array([[15, 15, 10, 18, 11],\n",
              "       [11, 10, 13, 18, 18],\n",
              "       [14, 14, 10, 19, 13],\n",
              "       [17, 13, 12, 11, 11]])"
            ]
          },
          "metadata": {},
          "execution_count": 95
        }
      ]
    },
    {
      "cell_type": "code",
      "metadata": {
        "colab": {
          "base_uri": "https://localhost:8080/"
        },
        "id": "m5EI8sJXbYfU",
        "outputId": "c40e19f0-5ac1-4f88-f951-a2dcb30becb8"
      },
      "source": [
        "A[0] # indexowanie po wierszach\n",
        "A[:,0]  ## indexowanie po kolumnach"
      ],
      "execution_count": 107,
      "outputs": [
        {
          "output_type": "execute_result",
          "data": {
            "text/plain": [
              "17"
            ]
          },
          "metadata": {},
          "execution_count": 107
        }
      ]
    },
    {
      "cell_type": "code",
      "metadata": {
        "colab": {
          "base_uri": "https://localhost:8080/"
        },
        "id": "B5bnfv1DcCgu",
        "outputId": "df1d5841-0c5b-4813-cf09-0c19492262ea"
      },
      "source": [
        "A[1:3,1:3] ## slice"
      ],
      "execution_count": 118,
      "outputs": [
        {
          "output_type": "execute_result",
          "data": {
            "text/plain": [
              "array([[10, 13],\n",
              "       [14, 10]])"
            ]
          },
          "metadata": {},
          "execution_count": 118
        }
      ]
    },
    {
      "cell_type": "code",
      "metadata": {
        "colab": {
          "base_uri": "https://localhost:8080/"
        },
        "id": "bridvnGWc4wL",
        "outputId": "a0b59b23-bf9c-41e4-f3d4-f5f975736300"
      },
      "source": [
        "A[1,2] = 0\n",
        "A"
      ],
      "execution_count": 120,
      "outputs": [
        {
          "output_type": "execute_result",
          "data": {
            "text/plain": [
              "array([[15, 15, 10, 18, 11],\n",
              "       [11, 10,  0, 18, 18],\n",
              "       [14, 14, 10, 19, 13],\n",
              "       [17, 13, 12, 11, 11]])"
            ]
          },
          "metadata": {},
          "execution_count": 120
        }
      ]
    },
    {
      "cell_type": "code",
      "metadata": {
        "colab": {
          "base_uri": "https://localhost:8080/"
        },
        "id": "-fqjzGqpdM7l",
        "outputId": "1af17b44-7a05-4233-e7a4-a93007f43d90"
      },
      "source": [
        "### iteracja + maski\n",
        "\n",
        "for r in A:\n",
        "  print(r[0])"
      ],
      "execution_count": 124,
      "outputs": [
        {
          "output_type": "stream",
          "name": "stdout",
          "text": [
            "15\n",
            "11\n",
            "14\n",
            "17\n"
          ]
        }
      ]
    },
    {
      "cell_type": "code",
      "metadata": {
        "id": "h-LgQA2PddSQ"
      },
      "source": [
        "for item in A.flat:     ### po kazdym elemencie\n",
        "  print(item)"
      ],
      "execution_count": null,
      "outputs": []
    },
    {
      "cell_type": "code",
      "metadata": {
        "colab": {
          "base_uri": "https://localhost:8080/"
        },
        "id": "T7fDCqQ1dnE7",
        "outputId": "f1f2a4f4-4617-4ae0-943b-4e0226d1bed2"
      },
      "source": [
        "A.shape"
      ],
      "execution_count": 126,
      "outputs": [
        {
          "output_type": "execute_result",
          "data": {
            "text/plain": [
              "(4, 5)"
            ]
          },
          "metadata": {},
          "execution_count": 126
        }
      ]
    },
    {
      "cell_type": "code",
      "metadata": {
        "colab": {
          "base_uri": "https://localhost:8080/"
        },
        "id": "UoUAGwukdpu9",
        "outputId": "9d97e315-8e8a-4550-dbd2-a94de64da2c2"
      },
      "source": [
        "A.ravel()   ### spłaszczamy dane"
      ],
      "execution_count": 127,
      "outputs": [
        {
          "output_type": "execute_result",
          "data": {
            "text/plain": [
              "array([15, 15, 10, 18, 11, 11, 10,  0, 18, 18, 14, 14, 10, 19, 13, 17, 13,\n",
              "       12, 11, 11])"
            ]
          },
          "metadata": {},
          "execution_count": 127
        }
      ]
    },
    {
      "cell_type": "code",
      "metadata": {
        "colab": {
          "base_uri": "https://localhost:8080/"
        },
        "id": "Yq2jIqBZdyOK",
        "outputId": "6a3d617d-c445-4489-f546-9a263c44c8ca"
      },
      "source": [
        "A.T    # transponowanie macierzy - to znam "
      ],
      "execution_count": 128,
      "outputs": [
        {
          "output_type": "execute_result",
          "data": {
            "text/plain": [
              "array([[15, 11, 14, 17],\n",
              "       [15, 10, 14, 13],\n",
              "       [10,  0, 10, 12],\n",
              "       [18, 18, 19, 11],\n",
              "       [11, 18, 13, 11]])"
            ]
          },
          "metadata": {},
          "execution_count": 128
        }
      ]
    },
    {
      "cell_type": "code",
      "metadata": {
        "id": "NOkiGwzHeDxZ"
      },
      "source": [
        "#### MASKI LOGICZNE"
      ],
      "execution_count": null,
      "outputs": []
    },
    {
      "cell_type": "code",
      "metadata": {
        "colab": {
          "base_uri": "https://localhost:8080/"
        },
        "id": "9F6gNZxUeF_s",
        "outputId": "8e3f5d2f-d62e-4c5e-f98d-d6a9fb286a3f"
      },
      "source": [
        "A = np.arange(-10,10,0.5)\n",
        "A = A.reshape(10,-1)\n",
        "A"
      ],
      "execution_count": 131,
      "outputs": [
        {
          "output_type": "execute_result",
          "data": {
            "text/plain": [
              "array([[-10. ,  -9.5,  -9. ,  -8.5],\n",
              "       [ -8. ,  -7.5,  -7. ,  -6.5],\n",
              "       [ -6. ,  -5.5,  -5. ,  -4.5],\n",
              "       [ -4. ,  -3.5,  -3. ,  -2.5],\n",
              "       [ -2. ,  -1.5,  -1. ,  -0.5],\n",
              "       [  0. ,   0.5,   1. ,   1.5],\n",
              "       [  2. ,   2.5,   3. ,   3.5],\n",
              "       [  4. ,   4.5,   5. ,   5.5],\n",
              "       [  6. ,   6.5,   7. ,   7.5],\n",
              "       [  8. ,   8.5,   9. ,   9.5]])"
            ]
          },
          "metadata": {},
          "execution_count": 131
        }
      ]
    },
    {
      "cell_type": "code",
      "metadata": {
        "colab": {
          "base_uri": "https://localhost:8080/"
        },
        "id": "JeWZ8NQ8eLRV",
        "outputId": "57281df5-4305-4b9a-9d33-ac8d278582bb"
      },
      "source": [
        "A > 0  # -> tj maska logiczna"
      ],
      "execution_count": 132,
      "outputs": [
        {
          "output_type": "execute_result",
          "data": {
            "text/plain": [
              "array([[False, False, False, False],\n",
              "       [False, False, False, False],\n",
              "       [False, False, False, False],\n",
              "       [False, False, False, False],\n",
              "       [False, False, False, False],\n",
              "       [False,  True,  True,  True],\n",
              "       [ True,  True,  True,  True],\n",
              "       [ True,  True,  True,  True],\n",
              "       [ True,  True,  True,  True],\n",
              "       [ True,  True,  True,  True]])"
            ]
          },
          "metadata": {},
          "execution_count": 132
        }
      ]
    },
    {
      "cell_type": "code",
      "metadata": {
        "colab": {
          "base_uri": "https://localhost:8080/"
        },
        "id": "CeTOWmOYeaBa",
        "outputId": "9611e082-400e-466c-f721-0bdce9accc20"
      },
      "source": [
        "# wycinanie za pomoca maski logicznej\n",
        "A[A>0]"
      ],
      "execution_count": 135,
      "outputs": [
        {
          "output_type": "execute_result",
          "data": {
            "text/plain": [
              "array([0.5, 1. , 1.5, 2. , 2.5, 3. , 3.5, 4. , 4.5, 5. , 5.5, 6. , 6.5,\n",
              "       7. , 7.5, 8. , 8.5, 9. , 9.5])"
            ]
          },
          "metadata": {},
          "execution_count": 135
        }
      ]
    },
    {
      "cell_type": "code",
      "metadata": {
        "colab": {
          "base_uri": "https://localhost:8080/"
        },
        "id": "wyJjOa6FepYv",
        "outputId": "1537357b-af83-4682-cdc4-0beff1fa0e32"
      },
      "source": [
        "np.bitwise_and(A>-5, A<5)   # jak mamy and ( z or to bitwise_or) tworzymy maske"
      ],
      "execution_count": 138,
      "outputs": [
        {
          "output_type": "execute_result",
          "data": {
            "text/plain": [
              "array([[False, False, False, False],\n",
              "       [False, False, False, False],\n",
              "       [False, False, False,  True],\n",
              "       [ True,  True,  True,  True],\n",
              "       [ True,  True,  True,  True],\n",
              "       [ True,  True,  True,  True],\n",
              "       [ True,  True,  True,  True],\n",
              "       [ True,  True, False, False],\n",
              "       [False, False, False, False],\n",
              "       [False, False, False, False]])"
            ]
          },
          "metadata": {},
          "execution_count": 138
        }
      ]
    },
    {
      "cell_type": "code",
      "metadata": {
        "colab": {
          "base_uri": "https://localhost:8080/"
        },
        "id": "roGoROCIe5mQ",
        "outputId": "cbe2c384-6427-45e5-eda2-b3bcb5b08fe4"
      },
      "source": [
        "A[np.bitwise_and(A>-5, A<5)] # wycinamy"
      ],
      "execution_count": 139,
      "outputs": [
        {
          "output_type": "execute_result",
          "data": {
            "text/plain": [
              "array([-4.5, -4. , -3.5, -3. , -2.5, -2. , -1.5, -1. , -0.5,  0. ,  0.5,\n",
              "        1. ,  1.5,  2. ,  2.5,  3. ,  3.5,  4. ,  4.5])"
            ]
          },
          "metadata": {},
          "execution_count": 139
        }
      ]
    },
    {
      "cell_type": "code",
      "metadata": {
        "id": "POl7MVrYfFeW"
      },
      "source": [
        ""
      ],
      "execution_count": null,
      "outputs": []
    }
  ]
}